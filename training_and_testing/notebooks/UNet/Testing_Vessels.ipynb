{
  "cells": [
    {
      "cell_type": "markdown",
      "metadata": {
        "id": "pGDZZ_XoZk1J"
      },
      "source": [
        "# Setup"
      ]
    },
    {
      "cell_type": "markdown",
      "metadata": {
        "id": "BTtJaEm4whzo"
      },
      "source": [
        "### Mount Drive"
      ]
    },
    {
      "cell_type": "code",
      "execution_count": null,
      "metadata": {
        "colab": {
          "base_uri": "https://localhost:8080/"
        },
        "id": "2-BOBIfnwaMn",
        "outputId": "7a223912-8fdf-49e8-aaab-801fca2d0053"
      },
      "outputs": [
        {
          "output_type": "stream",
          "name": "stdout",
          "text": [
            "Mounted at /content/drive\n"
          ]
        }
      ],
      "source": [
        "from google.colab import drive\n",
        "drive.mount('/content/drive') "
      ]
    },
    {
      "cell_type": "markdown",
      "metadata": {
        "id": "EkHaQVPUwx3b"
      },
      "source": [
        "### Install Dependencies"
      ]
    },
    {
      "cell_type": "code",
      "execution_count": null,
      "metadata": {
        "id": "idjkd_nudsOk"
      },
      "outputs": [],
      "source": [
        "# Needed for converting tif to png\n",
        "!sudo apt-get -qq install imagemagick"
      ]
    },
    {
      "cell_type": "markdown",
      "metadata": {
        "id": "QyUVMbKAxSX2"
      },
      "source": [
        "### Imports & Global Variables"
      ]
    },
    {
      "cell_type": "code",
      "execution_count": null,
      "metadata": {
        "id": "T88Gi7-lxVcp"
      },
      "outputs": [],
      "source": [
        "import os\n",
        "import glob\n",
        "import cv2\n",
        "import matplotlib.pyplot as plt\n",
        "from google.colab.patches import cv2_imshow\n",
        "\n",
        "\n",
        "remote_code_path = \"/content/drive/MyDrive/Vessels\"\n",
        "test_images = \"/content/drive/MyDrive/my_test/images\"\n",
        "test_gts = \"/content/drive/MyDrive/my_test/masks\"\n",
        "local_code_path = \"/content/\"+os.path.basename(remote_code_path)\n",
        "results_dir = \"/content/drive/MyDrive/colonoscopy_v\"\n",
        "first_image_index = 1\n",
        "last_image_index = 16"
      ]
    },
    {
      "cell_type": "markdown",
      "metadata": {
        "id": "5hqatJOWw0Sn"
      },
      "source": [
        "### Copy code into working directory"
      ]
    },
    {
      "cell_type": "code",
      "execution_count": null,
      "metadata": {
        "colab": {
          "base_uri": "https://localhost:8080/"
        },
        "id": "R5z4ToEbd9Fc",
        "outputId": "b1ce24a8-115e-44ac-f372-a642937118b0"
      },
      "outputs": [
        {
          "output_type": "execute_result",
          "data": {
            "text/plain": [
              "0"
            ]
          },
          "metadata": {},
          "execution_count": 9
        }
      ],
      "source": [
        "os.system(f\"cp -r {remote_code_path} ./\")"
      ]
    },
    {
      "cell_type": "markdown",
      "metadata": {
        "id": "eKEK8ZaCZ9OY"
      },
      "source": [
        "# Prepare Data"
      ]
    },
    {
      "cell_type": "markdown",
      "metadata": {
        "id": "03vGcZiYZPRo"
      },
      "source": [
        "### Fetch and Parse VesselNet Data"
      ]
    },
    {
      "cell_type": "code",
      "execution_count": null,
      "metadata": {
        "colab": {
          "base_uri": "https://localhost:8080/"
        },
        "id": "C10d3T5liU8C",
        "outputId": "ed74a0ef-7cef-4fca-c787-64dbf2fb5e13"
      },
      "outputs": [
        {
          "output_type": "stream",
          "name": "stdout",
          "text": [
            "0\n",
            "1\n",
            "2\n",
            "3\n",
            "4\n",
            "5\n",
            "6\n",
            "7\n",
            "8\n",
            "9\n",
            "10\n",
            "11\n",
            "12\n",
            "13\n",
            "14\n",
            "15\n",
            "16\n"
          ]
        }
      ],
      "source": [
        "# Clear the code's data directory\n",
        "#os.system(f\"rm {local_code_path}/DRIVE/test/images/*\")\n",
        "#os.system(f\"rm {local_code_path}/DRIVE/test/1st_manual/*\")\n",
        "\n",
        "imgs = glob.glob(f\"{test_images}/*\")\n",
        "gts = glob.glob(f\"{test_gts}/*\")\n",
        "\n",
        "imgs.sort()\n",
        "gts.sort()\n",
        "\n",
        "for i, image in enumerate(imgs):\n",
        "  print(i)\n",
        "  # Create n masks (n is the number of images to train on)\n",
        "  os.system(f\"cp {local_code_path}/DRIVE/training/mask/20_training_mask.png {local_code_path}/DRIVE/test/mask/{i+21:02d}_test_mask.png\")\n",
        "\n",
        "  # Copy images and groundtruth into the code's data directory\n",
        "  # And convert them from TIF to PNG\n",
        "  #os.system(f\"convert -verbose -coalesce {remote_test_images}/dataset/validate/origin/{i+20:02d}_test.tif {local_code_path}/DRIVE/test/images/{i:02d}_test.png\")\n",
        "  #os.system(f\"convert -verbose -coalesce {remote_test_images}/dataset/validate/groundtruth/{i+20:02d}_manual1.tif {local_code_path}/DRIVE/test/1st_manual/{i:02d}_manual1.png\")\n",
        "\n",
        "  # Resize both images and groundtruth to UNet's size (512x512)\n",
        "  os.system(f\"ffmpeg -y -i {imgs[i-first_image_index]} -s 512x512 {local_code_path}/DRIVE/test/images/{i+21:02d}_test.jpg\")\n",
        "  os.system(f\"ffmpeg -y -i {gts[i-first_image_index]} -s 512x512 {local_code_path}/DRIVE/test/1st_manual/{i+21:02d}_manual1.png\")\n",
        "  os.system(f\"convert {local_code_path}/DRIVE/test/images/{i+21:02d}_test.jpg {local_code_path}/DRIVE/test/images/{i+21:02d}_test.png\")\n",
        "  os.system(f\"rm {local_code_path}/DRIVE/test/images/{i+21:02d}_test.jpg\")\n",
        "  os.system(f\"convert -verbose -coalesce {local_code_path}/DRIVE/test/1st_manual/{i+21:02d}_manual1.jpg {local_code_path}/DRIVE/test/1st_manual/{i+21:02d}_manual1.png\")\n",
        "  os.system(f\"rm {local_code_path}/DRIVE/test/1st_manual/{i+21:02d}_manual1.jpg\")"
      ]
    },
    {
      "cell_type": "markdown",
      "metadata": {
        "id": "UUUC-ngexG_h"
      },
      "source": [
        "### Prepare Dataset"
      ]
    },
    {
      "cell_type": "code",
      "execution_count": null,
      "metadata": {
        "colab": {
          "base_uri": "https://localhost:8080/"
        },
        "id": "9K6KRKm8mGE6",
        "outputId": "f0b0a3d7-21bf-45b2-98b5-21e1f0779d83"
      },
      "outputs": [
        {
          "output_type": "stream",
          "name": "stdout",
          "text": [
            "original image: 05_training.jpg\n",
            "ground truth name: 05_manual1.png\n",
            "border masks name: 05_training_mask.png\n",
            "original image: 17_training.jpg\n",
            "ground truth name: 17_manual1.png\n",
            "border masks name: 17_training_mask.png\n",
            "original image: 01_training.jpg\n",
            "ground truth name: 01_manual1.png\n",
            "border masks name: 01_training_mask.png\n",
            "original image: 09_training.jpg\n",
            "ground truth name: 09_manual1.png\n",
            "border masks name: 09_training_mask.png\n",
            "original image: 10_training.jpg\n",
            "ground truth name: 10_manual1.png\n",
            "border masks name: 10_training_mask.png\n",
            "original image: 14_training.jpg\n",
            "ground truth name: 14_manual1.png\n",
            "border masks name: 14_training_mask.png\n",
            "original image: 08_training.jpg\n",
            "ground truth name: 08_manual1.png\n",
            "border masks name: 08_training_mask.png\n",
            "original image: 02_training.jpg\n",
            "ground truth name: 02_manual1.png\n",
            "border masks name: 02_training_mask.png\n",
            "original image: 12_training.jpg\n",
            "ground truth name: 12_manual1.png\n",
            "border masks name: 12_training_mask.png\n",
            "original image: 15_training.jpg\n",
            "ground truth name: 15_manual1.png\n",
            "border masks name: 15_training_mask.png\n",
            "original image: 11_training.jpg\n",
            "ground truth name: 11_manual1.png\n",
            "border masks name: 11_training_mask.png\n",
            "original image: 06_training.jpg\n",
            "ground truth name: 06_manual1.png\n",
            "border masks name: 06_training_mask.png\n",
            "original image: 04_training.jpg\n",
            "ground truth name: 04_manual1.png\n",
            "border masks name: 04_training_mask.png\n",
            "original image: 07_training.jpg\n",
            "ground truth name: 07_manual1.png\n",
            "border masks name: 07_training_mask.png\n",
            "original image: 03_training.jpg\n",
            "ground truth name: 03_manual1.png\n",
            "border masks name: 03_training_mask.png\n",
            "original image: 13_training.jpg\n",
            "ground truth name: 13_manual1.png\n",
            "border masks name: 13_training_mask.png\n",
            "original image: 16_training.jpg\n",
            "ground truth name: 16_manual1.png\n",
            "border masks name: 16_training_mask.png\n",
            "imgs max: 255.0\n",
            "imgs min: 0.0\n",
            "ground truth and border masks are correctly withih pixel value range 0-255 (black-white)\n",
            "saving train datasets\n",
            "original image: 28_test.png\n",
            "ground truth name: 28_manual1.png\n",
            "border masks name: 28_test_mask.png\n",
            "original image: 26_test.png\n",
            "ground truth name: 26_manual1.png\n",
            "border masks name: 26_test_mask.png\n",
            "original image: 34_test.png\n",
            "ground truth name: 34_manual1.png\n",
            "border masks name: 34_test_mask.png\n",
            "original image: 32_test.png\n",
            "ground truth name: 32_manual1.png\n",
            "border masks name: 32_test_mask.png\n",
            "original image: 25_test.png\n",
            "ground truth name: 25_manual1.png\n",
            "border masks name: 25_test_mask.png\n",
            "original image: 35_test.png\n",
            "ground truth name: 35_manual1.png\n",
            "border masks name: 35_test_mask.png\n",
            "original image: 33_test.png\n",
            "ground truth name: 33_manual1.png\n",
            "border masks name: 33_test_mask.png\n",
            "original image: 21_test.png\n",
            "ground truth name: 21_manual1.png\n",
            "border masks name: 21_test_mask.png\n",
            "original image: 22_test.png\n",
            "ground truth name: 22_manual1.png\n",
            "border masks name: 22_test_mask.png\n",
            "original image: 29_test.png\n",
            "ground truth name: 29_manual1.png\n",
            "border masks name: 29_test_mask.png\n",
            "original image: 36_test.png\n",
            "ground truth name: 36_manual1.png\n",
            "border masks name: 36_test_mask.png\n",
            "original image: 31_test.png\n",
            "ground truth name: 31_manual1.png\n",
            "border masks name: 31_test_mask.png\n",
            "original image: 24_test.png\n",
            "ground truth name: 24_manual1.png\n",
            "border masks name: 24_test_mask.png\n",
            "original image: 30_test.png\n",
            "ground truth name: 30_manual1.png\n",
            "border masks name: 30_test_mask.png\n",
            "original image: 37_test.png\n",
            "ground truth name: 37_manual1.png\n",
            "border masks name: 37_test_mask.png\n",
            "original image: 27_test.png\n",
            "ground truth name: 27_manual1.png\n",
            "border masks name: 27_test_mask.png\n",
            "original image: 23_test.png\n",
            "ground truth name: 23_manual1.png\n",
            "border masks name: 23_test_mask.png\n",
            "imgs max: 255.0\n",
            "imgs min: 0.0\n",
            "ground truth and border masks are correctly withih pixel value range 0-255 (black-white)\n",
            "saving test datasets\n"
          ]
        }
      ],
      "source": [
        "# This extracts all testing and training patches and saves them into an h5 file to be used by the network\n",
        "!cd Vessels && python3 prepare_datasets_DRIVE.py"
      ]
    },
    {
      "cell_type": "markdown",
      "metadata": {
        "id": "DHoVfrTexC8H"
      },
      "source": [
        "# Run Testing"
      ]
    },
    {
      "cell_type": "code",
      "execution_count": null,
      "metadata": {
        "colab": {
          "base_uri": "https://localhost:8080/"
        },
        "id": "vVTdKKcUpTtX",
        "outputId": "7c9f0d44-45c2-4fe5-a519-700d1653552d"
      },
      "outputs": [
        {
          "output_type": "stream",
          "name": "stdout",
          "text": [
            "run_testing.py:15: DeprecationWarning: This method will be removed in future versions.  Use 'parser.read_file()' instead.\n",
            "  config.readfp(open(r'./configuration.txt'))\n",
            "\n",
            "1. Create directory for the results (if not already existing)\n",
            "\n",
            "2. Run the prediction on GPU (no nohup)\n",
            "\n",
            "the side H is not compatible with the selected stride of 5\n",
            "img_h 512, patch_h 48, stride_h 5\n",
            "(img_h - patch_h) MOD stride_h: 4\n",
            "So the H dim will be padded with additional 1 pixels\n",
            "the side W is not compatible with the selected stride of 5\n",
            "img_w 512, patch_w 48, stride_w 5\n",
            "(img_w - patch_w) MOD stride_w: 4\n",
            "So the W dim will be padded with additional 1 pixels\n",
            "new full images shape: \n",
            "(15, 1, 513, 513)\n",
            "\n",
            "test images shape:\n",
            "(15, 1, 513, 513)\n",
            "\n",
            "test mask shape:\n",
            "(15, 1, 512, 512)\n",
            "test images range (min-max): 0.0 - 1.0\n",
            "test masks are within 0-1\n",
            "\n",
            "Number of patches on h : 94\n",
            "Number of patches on w : 94\n",
            "number of patches per image: 8836, totally for this dataset: 132540\n",
            "tcmalloc: large alloc 2442977280 bytes == 0x55fc5ecb6000 @  0x7fcaf07a11e7 0x7fcaee0f20ce 0x7fcaee148cf5 0x7fcaee148f4f 0x7fcaee1eb673 0x55fc40dd811c 0x55fc40dd7ef0 0x55fc40e4c123 0x55fc40dd97aa 0x55fc40e478f6 0x55fc40e46a2e 0x55fc40dd988a 0x55fc40e48719 0x55fc40e46a2e 0x55fc40e46723 0x55fc40f10812 0x55fc40f10b8d 0x55fc40f10a36 0x55fc40ee8183 0x55fc40ee7e2c 0x7fcaef58bc87 0x55fc40ee7d0a\n",
            "\n",
            "test PATCHES images shape:\n",
            "(132540, 1, 48, 48)\n",
            "test PATCHES images range (min-max): 0.0 - 1.0\n",
            "2022-04-03 13:10:10.017358: W tensorflow/core/common_runtime/gpu/gpu_bfc_allocator.cc:39] Overriding allow_growth setting because the TF_FORCE_GPU_ALLOW_GROWTH environment variable is set. Original config value was 0.\n",
            "tcmalloc: large alloc 1221492736 bytes == 0x55fcfc8a4000 @  0x7fcaf07a11e7 0x7fcaee0f20ce 0x7fcaee14c726 0x7fcaee14cb09 0x7fcaee14e620 0x7fcaa1dcca30 0x7fcaa1d74bc0 0x7fcaa1d759a9 0x55fc40e18184 0x55fc40dd8902 0x55fc40e4c522 0x55fc40e46a2e 0x55fc40dd988a 0x55fc40e478f6 0x55fc40dd97aa 0x55fc40e478f6 0x55fc40e46a2e 0x55fc40dd988a 0x55fc40e48719 0x55fc40e46a2e 0x55fc40dd988a 0x55fc40e48719 0x55fc40e46a2e 0x55fc40dd988a 0x55fc40e48719 0x55fc40e46a2e 0x55fc40d18e2b 0x55fc40e48ff1 0x55fc40e46cdd 0x55fc40dd988a 0x55fc40e48719\n",
            "4142/4142 - 41s - 41s/epoch - 10ms/step\n",
            "2022-04-03 13:10:52.425671: W tensorflow/core/framework/cpu_allocator_impl.cc:82] Allocation of 2442977280 exceeds 10% of free system memory.\n",
            "tcmalloc: large alloc 2442977280 bytes == 0x55fd9eaea000 @  0x7fcaf0783b6b 0x7fcaf07a3379 0x7fcaae01a257 0x7fca9c4a430f 0x7fca9c541ae8 0x7fcaa93bb323 0x7fcaa2622c01 0x7fcaa205e837 0x7fcaa1d7523a 0x7fcaa1d75660 0x55fc40dd8051 0x55fc40dd7ef0 0x55fc40e4c123 0x55fc40dd97aa 0x55fc40e4bd30 0x55fc40dd97aa 0x55fc40e4bd30 0x55fc40e46a2e 0x55fc40d18eb0 0x55fc40e48ff1 0x55fc40e46cdd 0x55fc40dd988a 0x55fc40e478f6 0x55fc40e46cdd 0x55fc40dd988a 0x55fc40e4bd30 0x55fc40dd97aa 0x55fc40e4bd30 0x55fc40e46a2e 0x55fc40d18e2b 0x55fc40e48ff1\n",
            "tcmalloc: large alloc 2442977280 bytes == 0x55fe304b8000 @  0x7fcaf07a11e7 0x7fcaee0f20ce 0x7fcaee14c726 0x7fcaee13f475 0x7fcaee1dfe51 0x55fc40dd811c 0x55fc40ec9d4d 0x55fc40e4bec8 0x55fc40dd97aa 0x55fc40e4bd30 0x55fc40e46a2e 0x55fc40d18eb0 0x55fc40e48ff1 0x55fc40e46cdd 0x55fc40dd988a 0x55fc40e478f6 0x55fc40e46cdd 0x55fc40dd988a 0x55fc40e4bd30 0x55fc40dd97aa 0x55fc40e4bd30 0x55fc40e46a2e 0x55fc40d18e2b 0x55fc40e48ff1 0x55fc40e46cdd 0x55fc40dd988a 0x55fc40e48719 0x55fc40e46a2e 0x55fc40e46723 0x55fc40f10812 0x55fc40f10b8d\n",
            "predicted images size :\n",
            "(132540, 2304, 2)\n",
            "tcmalloc: large alloc 2442977280 bytes == 0x55fd9eaea000 @  0x7fcaf07a11e7 0x7fcaee0f20ce 0x7fcaee148cf5 0x7fcaee148f4f 0x7fcaee1eb673 0x55fc40dd811c 0x55fc40dd7ef0 0x55fc40e4c123 0x55fc40e46a2e 0x55fc40dd988a 0x55fc40e478f6 0x55fc40e46a2e 0x55fc40e46723 0x55fc40f10812 0x55fc40f10b8d 0x55fc40f10a36 0x55fc40ee8183 0x55fc40ee7e2c 0x7fcaef58bc87 0x55fc40ee7d0a\n",
            "N_patches_h: 94\n",
            "N_patches_w: 94\n",
            "N_patches_img: 8836\n",
            "According to the dimension inserted, there are 15 full images (of 513x513 each)\n",
            "(15, 1, 513, 513)\n",
            "Orig imgs shape: (15, 1, 512, 512)\n",
            "pred imgs shape: (15, 1, 512, 512)\n",
            "Gtruth imgs shape: (15, 1, 512, 512)\n"
          ]
        }
      ],
      "source": [
        "!cd Vessels && python3 run_testing.py"
      ]
    },
    {
      "cell_type": "code",
      "source": [
        "!rm -r Vessels/DRIVE/test && cp -r /content/drive/MyDrive/White\\ Light/DRIVE/test Vessels/DRIVE/"
      ],
      "metadata": {
        "id": "U55yJWKRJoJK"
      },
      "execution_count": null,
      "outputs": []
    },
    {
      "cell_type": "markdown",
      "metadata": {
        "id": "-XfE66sWYz_m"
      },
      "source": [
        "# Binarize"
      ]
    },
    {
      "cell_type": "code",
      "execution_count": null,
      "metadata": {
        "id": "JgV6qSsUY4vt"
      },
      "outputs": [],
      "source": [
        "#!/usr/bin/python3\n",
        "\n",
        "import cv2\n",
        "import glob\n",
        "import numpy as np\n",
        "\n",
        "threshold_value = 160\n",
        "output_dir = '/content/drive/MyDrive/colonoscopy_v/'\n",
        "\n",
        "\n",
        "# Enumerate images\n",
        "predictions = glob.glob(f'{output_dir}/colonoscopy_v_Original_GroundTruth_Prediction*')\n",
        "print(len(predictions))\n",
        "for i, image in enumerate(predictions):\n",
        "  # Read image\n",
        "  img = cv2.imread(image)\n",
        "\n",
        "  # _, img_b = cv2.threshold(img, 250, 255, cv2.THRESH_BINARY)\n",
        "  # Binarize given a threshold value\n",
        "  img_b = np.zeros(img.shape, dtype=\"uint8\")\n",
        "  for i in range(img.shape[0]):\n",
        "    for j in range(img.shape[1]):\n",
        "      if (img[i, j] >= [threshold_value, threshold_value, threshold_value]).all():\n",
        "        img_b[i, j] = [255, 255, 255]\n",
        "\n",
        "  cv2.imwrite(f'{output_dir}/predictions/{i:02d}_pred.png', img_b)\n"
      ]
    }
  ],
  "metadata": {
    "accelerator": "GPU",
    "colab": {
      "machine_shape": "hm",
      "provenance": []
    },
    "kernelspec": {
      "display_name": "Python 3",
      "name": "python3"
    },
    "language_info": {
      "name": "python"
    }
  },
  "nbformat": 4,
  "nbformat_minor": 0
}
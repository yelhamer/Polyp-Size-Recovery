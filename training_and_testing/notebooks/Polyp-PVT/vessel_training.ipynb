{
  "cells": [
    {
      "cell_type": "markdown",
      "source": [
        "## Environment Setup"
      ],
      "metadata": {
        "id": "X4aAGeSBjSxg"
      }
    },
    {
      "cell_type": "markdown",
      "source": [
        "Mount Google Drive"
      ],
      "metadata": {
        "id": "OhbbgjlejeJk"
      }
    },
    {
      "cell_type": "code",
      "execution_count": null,
      "metadata": {
        "id": "EzZECptx3MVN"
      },
      "outputs": [],
      "source": [
        "from google.colab import drive\n",
        "drive.mount('/content/drive')"
      ]
    },
    {
      "cell_type": "markdown",
      "source": [
        "Install Dependencies"
      ],
      "metadata": {
        "id": "Zjc_Cdtwm3lR"
      }
    },
    {
      "cell_type": "code",
      "source": [
        "!pip install torch==1.7.1\n",
        "!pip install torchvision==0.8.2\n",
        "!pip install timm\n",
        "!pip install thop\n",
        "!pip install onnx"
      ],
      "metadata": {
        "id": "qrExXadtm2hy"
      },
      "execution_count": null,
      "outputs": []
    },
    {
      "cell_type": "markdown",
      "source": [
        "Imports and Variables"
      ],
      "metadata": {
        "id": "BVgzhjp4m5Xk"
      }
    },
    {
      "cell_type": "code",
      "source": [
        "import os\n",
        "\n",
        "# Bash variables\n",
        "%env ppvt_path=/content/drive/MyDrive/Polyp-Size-Recovery/Polyp-PVT\n",
        "%env dataset=/content/drive/MyDrive/fudge\n",
        "\n",
        "# Python variables\n",
        "ppvt_path = os.environ['ppvt_path']"
      ],
      "metadata": {
        "id": "6wj22eTLjl89"
      },
      "execution_count": null,
      "outputs": []
    },
    {
      "cell_type": "markdown",
      "source": [
        "Copy Polyp-PVT into the working directory"
      ],
      "metadata": {
        "id": "moBus3vWm_au"
      }
    },
    {
      "cell_type": "code",
      "execution_count": null,
      "metadata": {
        "id": "Cdgyhp9HVmz4"
      },
      "outputs": [],
      "source": [
        "!cp -r $ppvt_path Polyp-PVT"
      ]
    },
    {
      "cell_type": "markdown",
      "source": [
        "Create Polyp-PVT interlan dataset file structure"
      ],
      "metadata": {
        "id": "_U37S_MlnF2C"
      }
    },
    {
      "cell_type": "code",
      "execution_count": null,
      "metadata": {
        "id": "HzkdtN3Xtgar"
      },
      "outputs": [],
      "source": [
        "# Create the dataset structure\n",
        "!rm -r Polyp-PVT/dataset/TestDataset/*\n",
        "!mkdir Polyp-PVT/dataset/TestDataset/SUN\n",
        "!mkdir Polyp-PVT/dataset/TestDataset/SUN/images\n",
        "!mkdir Polyp-PVT/dataset/TestDataset/SUN/masks\n",
        "!rm -r Polyp-PVT/dataset/TrainDataset/*\n",
        "!mkdir Polyp-PVT/dataset/TrainDataset/SUN/\n",
        "!mkdir Polyp-PVT/dataset/TrainDataset/SUN/images\n",
        "!mkdir Polyp-PVT/dataset/TrainDataset/SUN/masks\n",
        "\n",
        "# Copy the dataset into the Polyp-PVT structure\n",
        "!cp $dataset/images/* Polyp-PVT/dataset/TrainDataset/SUN/images/\n",
        "!cp $dataset/masks/* Polyp-PVT/dataset/TrainDataset/SUN/masks/\n",
        "!cp $dataset/val/images/* Polyp-PVT/dataset/TestDataset/SUN/images/\n",
        "!cp $dataset/val/masks/* Polyp-PVT/dataset/TestDataset/SUN/masks/"
      ]
    },
    {
      "cell_type": "markdown",
      "source": [
        "Copy dataset into Polyp-PVT's file structure"
      ],
      "metadata": {
        "id": "0pnAc6NnnL7b"
      }
    },
    {
      "cell_type": "code",
      "execution_count": null,
      "metadata": {
        "id": "dPhvafo0d-Pn"
      },
      "outputs": [],
      "source": [
        "i = 32\n",
        "images = os.listdir(f\"{ppvt_path}/dataset/TrainDataset/images\")\n",
        "for j in images:\n",
        "  os.system(f\"cp {ppvt_path}/dataset/TrainDataset/images/{j} Polyp-PVT/dataset/TrainDataset/SUN/images/{i}.png\")\n",
        "  os.system(f\"cp {ppvt_path}/dataset/TrainDataset/images/{j} Polyp-PVT/dataset/TestDataset/SUN/images/{i}.png\")\n",
        "  i += 1\n",
        "\n",
        "masks = os.listdir(f\"{ppvt_path}/dataset/TrainDataset/masks\")\n",
        "i = 32\n",
        "for j in masks:\n",
        "  os.system(f\"cp {ppvt_path}/dataset/TrainDataset/masks/{j} Polyp-PVT/dataset/TrainDataset/SUN/masks/{i}.png\")\n",
        "  os.system(f\"cp {ppvt_path}/dataset/TrainDataset/masks/{j} Polyp-PVT/dataset/TestDataset/SUN/masks/{i}.png\")\n",
        "  i+= 1"
      ]
    },
    {
      "cell_type": "markdown",
      "source": [
        "## Run Training"
      ],
      "metadata": {
        "id": "CJGxzNnanZ1Z"
      }
    },
    {
      "cell_type": "code",
      "execution_count": null,
      "metadata": {
        "id": "juoD-tl4Aaxv"
      },
      "outputs": [],
      "source": [
        "!cd Polyp-PVT && python3 Train.py"
      ]
    }
  ],
  "metadata": {
    "accelerator": "GPU",
    "colab": {
      "machine_shape": "hm",
      "provenance": []
    },
    "kernelspec": {
      "display_name": "Python 3",
      "name": "python3"
    },
    "language_info": {
      "name": "python"
    }
  },
  "nbformat": 4,
  "nbformat_minor": 0
}
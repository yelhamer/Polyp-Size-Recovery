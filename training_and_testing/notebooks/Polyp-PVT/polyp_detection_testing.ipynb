{
  "nbformat": 4,
  "nbformat_minor": 0,
  "metadata": {
    "colab": {
      "provenance": [],
      "machine_shape": "hm"
    },
    "kernelspec": {
      "name": "python3",
      "display_name": "Python 3"
    },
    "language_info": {
      "name": "python"
    },
    "accelerator": "GPU"
  },
  "cells": [
    {
      "cell_type": "markdown",
      "source": [
        "## Environment setup"
      ],
      "metadata": {
        "id": "zxpnTvxwhVy_"
      }
    },
    {
      "cell_type": "markdown",
      "source": [
        "Mount Google Drive assuming that it contains the dataset"
      ],
      "metadata": {
        "id": "3aNYnZfXfNX8"
      }
    },
    {
      "cell_type": "code",
      "execution_count": null,
      "metadata": {
        "colab": {
          "base_uri": "https://localhost:8080/"
        },
        "id": "AWVhnN3-IX0d",
        "outputId": "46a219b6-84f9-409b-a638-579119771d11"
      },
      "outputs": [
        {
          "output_type": "stream",
          "name": "stdout",
          "text": [
            "Mounted at /content/drive\n"
          ]
        }
      ],
      "source": [
        "from google.colab import drive\n",
        "drive.mount('/content/drive')"
      ]
    },
    {
      "cell_type": "markdown",
      "source": [
        "Install dependencies"
      ],
      "metadata": {
        "id": "XcgCT2eBfWrt"
      }
    },
    {
      "cell_type": "code",
      "execution_count": null,
      "metadata": {
        "id": "GPZR-dINZ2C7"
      },
      "outputs": [],
      "source": [
        "!pip install timm\n",
        "!pip install thop\n",
        "!pip install Pytorch==1.7.1\n",
        "!pip install torchvision==0.8.2"
      ]
    },
    {
      "cell_type": "markdown",
      "source": [
        "Imports"
      ],
      "metadata": {
        "id": "DpOZE9ExQJvv"
      }
    },
    {
      "cell_type": "code",
      "source": [
        "import os\n",
        "import cv2\n",
        "from matplotlib import pyplot as plt"
      ],
      "metadata": {
        "id": "iOdbTSmyQICN"
      },
      "execution_count": null,
      "outputs": []
    },
    {
      "cell_type": "markdown",
      "source": [
        "Variables"
      ],
      "metadata": {
        "id": "LBUpuN_pQR3c"
      }
    },
    {
      "cell_type": "code",
      "source": [
        "# Path to where the test images are\n",
        "dataset_dir = \"/content/drive/MyDrive/images/\"\n",
        "# Path to model\n",
        "%env model_glink=https://drive.google.com/drive/folders/1Eu8v9vMRvt-dyCH0XSV2i77lAd62nPXV\n",
        "# Path to trained model\n",
        "%env trained_model_glink=https://drive.google.com/drive/folders/1xC5Opwu5Afz4xiK5O9v4NnQOZY0A9-2j"
      ],
      "metadata": {
        "id": "CPQcJFKXPfU8"
      },
      "execution_count": null,
      "outputs": []
    },
    {
      "cell_type": "markdown",
      "source": [
        "Get the trained models"
      ],
      "metadata": {
        "id": "256NqCVcQT-E"
      }
    },
    {
      "cell_type": "code",
      "source": [
        "!cd Polyp-PVT/ && gdown --folder model_glink\n",
        "!cd Polyp-PVT/ && gdown --folder trained_model_glink"
      ],
      "metadata": {
        "id": "45QXOf7HaS1M"
      },
      "execution_count": null,
      "outputs": []
    },
    {
      "cell_type": "markdown",
      "source": [
        "Get test images"
      ],
      "metadata": {
        "id": "u1PYa-WtaFGu"
      }
    },
    {
      "cell_type": "code",
      "source": [
        "# Create the test folder structure\n",
        "!mkdir Polyp-PVT/dataset\n",
        "!mkdir Polyp-PVT/dataset/TestDataset\n",
        "!mkdir Polyp-PVT/dataset/TestDataset/SUN\n",
        "!mkdir Polyp-PVT/dataset/TestDataset/SUN/images/\n",
        "!mkdir Polyp-PVT/dataset/TestDataset/SUN/masks\n",
        "\n",
        "# Copy test images from dataset folder into the model's directory\n",
        "images = os.listdir(dataset_dir)\n",
        "images.sort()\n",
        "i = 0\n",
        "for image in images:\n",
        "  print(image)\n",
        "  i += 1\n",
        "  os.system(f\"cp '{os.path.join(dataset_dir, image)}' Polyp-PVT/dataset/TestDataset/SUN/images/{i}.png\")\n",
        "  os.system(f\"cp '{os.path.join(dataset_dir, image)}' Polyp-PVT/dataset/TestDataset/SUN/masks/{i}.png\")\n",
        "  os.system(f\"cp '{os.path.join(dataset_dir, image)}' Polyp-PVT/dataset/TestDataset/SUN/images/{i}.png\")\n",
        "  os.system(f\"cp '{os.path.join(dataset_dir, image)}' Polyp-PVT/dataset/TestDataset/SUN/masks/{i}.png\")"
      ],
      "metadata": {
        "id": "rT1iDrYAc1We"
      },
      "execution_count": null,
      "outputs": []
    },
    {
      "cell_type": "markdown",
      "source": [
        "## Run the model"
      ],
      "metadata": {
        "id": "kRXKnol5hgju"
      }
    },
    {
      "cell_type": "markdown",
      "source": [
        "Run the model"
      ],
      "metadata": {
        "id": "fHF6JoSEhJaS"
      }
    },
    {
      "cell_type": "code",
      "source": [
        "!cd Polyp-PVT && chmod +x test.sh\n",
        "!cd Polyp-PVT && ./test.sh"
      ],
      "metadata": {
        "colab": {
          "base_uri": "https://localhost:8080/"
        },
        "id": "DIKaXHRNaouW",
        "outputId": "b797a212-46c6-4e10-832f-a1f55379f94d"
      },
      "execution_count": null,
      "outputs": [
        {
          "output_type": "stream",
          "name": "stdout",
          "text": [
            "SUN Finish!\n"
          ]
        }
      ]
    },
    {
      "cell_type": "markdown",
      "source": [
        "## Show results"
      ],
      "metadata": {
        "id": "rFaIbMqcZoxs"
      }
    },
    {
      "cell_type": "markdown",
      "source": [
        "Zip the results to make the download more convinient"
      ],
      "metadata": {
        "id": "00QOBIUBgxfh"
      }
    },
    {
      "cell_type": "code",
      "source": [
        "!zip -r results.zip Polyp-PVT/result_map"
      ],
      "metadata": {
        "id": "8xSu43hIgEGV"
      },
      "execution_count": null,
      "outputs": []
    },
    {
      "cell_type": "markdown",
      "source": [
        "Show the images"
      ],
      "metadata": {
        "id": "ijRQc9DbhwF1"
      }
    },
    {
      "cell_type": "code",
      "source": [
        "# Get the images' list\n",
        "result_imgs = os.listdir('Polyp-PVT/result_map')\n",
        "result_imgs = map(lambda x: os.path.join(save_dir, x),  result_imgs)\n",
        "result_imgs = list(result_imgs)\n",
        "\n",
        "# Display the images\n",
        "fig = plt.figure(figsize=(14,12))\n",
        "n = 1\n",
        "for i in result_imgs[0:n_imgs]:\n",
        "  img = cv2.imread(i)\n",
        "  fig.add_subplot(2, 2, n)\n",
        "  plt.imshow(img)\n",
        "  n += 1\n",
        "plt.show()"
      ],
      "metadata": {
        "id": "RdxETZX0iMUR"
      },
      "execution_count": null,
      "outputs": []
    }
  ]
}